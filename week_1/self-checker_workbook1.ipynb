{
 "cells": [
  {
   "cell_type": "markdown",
   "id": "7e1aa208-4adb-4d5a-94a7-fc8794f07fbb",
   "metadata": {},
   "source": [
    "<div class=\"alert alert-block alert-success\" style=\"color:black\">\n",
    "    <h1>Self-Checker Notebook: workbook1</h1>\n",
    "<p> When you have completed workbook1 it should produce a file called <code>student_wb1.py</code> in the folder <code>studentcode</code></p>\n",
    "    <p>Run the code cells in notebook to check your code for syntax errors <b>before you submit to the marking server</b></p>\n",
    "    <p> This will help you avoid wasting submission attemopts</p>\n",
    "</div>"
   ]
  },
  {
   "cell_type": "markdown",
   "id": "b2e73fe5-a3b6-4375-8fe6-05dda63f59c3",
   "metadata": {},
   "source": [
    "### Run next cell to set up code imports"
   ]
  },
  {
   "cell_type": "code",
   "execution_count": 1,
   "id": "c3159e46-d8af-4c4c-a3f9-c9de4a973efc",
   "metadata": {},
   "outputs": [],
   "source": [
    "#import your code\n",
    "from sys import path\n",
    "path.append(\"../common\")\n",
    "from approvedimports import *\n",
    "from wb1_selfcheck import *\n",
    "student_codepath = \"studentcode\"\n",
    "path.append(student_codepath)\n"
   ]
  },
  {
   "cell_type": "markdown",
   "id": "bb118bf1-9369-48a6-8959-a8a80b00484b",
   "metadata": {},
   "source": [
    "### Run the next cell to see if your code can be imported"
   ]
  },
  {
   "cell_type": "code",
   "execution_count": 2,
   "id": "53569423-03df-4474-9936-de5d3f61333f",
   "metadata": {},
   "outputs": [],
   "source": [
    "try:\n",
    "    from student_wb1 import get_names\n",
    "    from student_wb1 import exhaustive_search_4tumblers\n",
    "    from student_wb1 import check_sudoku_array\n",
    "except ImportError as e:\n",
    "    fullpath  = student_codepath +\"/student_wb1.py\"\n",
    "    outStr = f\"\\nImport Error {e}\\nfile contents\\n\"\n",
    "    with open(fullpath,'r') as file:\n",
    "        for line in file:\n",
    "            outStr += line\n",
    "    print(outStr)"
   ]
  },
  {
   "cell_type": "markdown",
   "id": "59af69f3-3365-4443-b826-11de97e4170f",
   "metadata": {},
   "source": [
    "### Run this last cell to test your code\n",
    "\n",
    "For self checking, the scores for each of your functions are as follows:\n",
    "- 2 if it runs ok and produces the correct result for a single test case.\n",
    "- 1 if it runs ok but produces the incorrect result for a single test case.\n",
    "- 0 if it does not run with our testing code.\n",
    "\n",
    "The marking server uses different (and more) test cases."
   ]
  },
  {
   "cell_type": "code",
   "execution_count": 3,
   "id": "9d6fe302-22b1-469d-a770-0821879ef320",
   "metadata": {},
   "outputs": [
    {
     "name": "stdout",
     "output_type": "stream",
     "text": [
      "[4 8 3 9 2 1 6 5 7]\n",
      "9\n",
      "[9 6 7 3 4 5 8 2 1]\n",
      "9\n",
      "[2 5 1 8 7 6 4 9 3]\n",
      "9\n",
      "[5 4 8 1 3 2 9 7 6]\n",
      "9\n",
      "[7 2 9 5 6 4 1 3 8]\n",
      "9\n",
      "[1 3 6 7 9 8 2 4 5]\n",
      "9\n",
      "[3 7 2 6 8 9 5 1 4]\n",
      "9\n",
      "[8 9 4 2 5 3 7 6 9]\n",
      "8\n",
      "[6 1 5 4 1 7 3 8 2]\n",
      "8\n",
      "[4 9 2 5 7 1 3 8 6]\n",
      "9\n",
      "[8 6 5 4 2 3 7 9 1]\n",
      "9\n",
      "[3 7 1 8 9 6 2 4 5]\n",
      "9\n",
      "[9 3 8 1 5 7 6 2 4]\n",
      "9\n",
      "[2 4 7 3 6 9 8 5 1]\n",
      "9\n",
      "[1 5 6 2 4 8 9 3 7]\n",
      "9\n",
      "[6 8 4 9 1 2 5 7 3]\n",
      "9\n",
      "[5 2 9 7 3 4 1 6 8]\n",
      "9\n",
      "[7 1 3 6 8 5 4 9 2]\n",
      "9\n",
      "[4 8 3 9 6 7 2 5 1]\n",
      "9\n",
      "[9 2 1 3 4 5 8 7 6]\n",
      "9\n",
      "[6 5 7 8 2 1 4 9 3]\n",
      "9\n",
      "[5 4 8 7 2 9 1 3 6]\n",
      "9\n",
      "[1 3 2 5 6 4 7 9 8]\n",
      "9\n",
      "[9 7 6 1 3 8 2 4 5]\n",
      "9\n",
      "[3 7 2 8 9 4 6 1 5]\n",
      "9\n",
      "[6 8 9 2 5 3 4 1 7]\n",
      "9\n",
      "[5 1 4 7 6 9 3 8 2]\n",
      "9\n",
      "Your code scores 6 out of 6 on the self checker\n"
     ]
    },
    {
     "data": {
      "text/html": [
       "<p></p><div style='border:2px solid darkred;padding:5px'><b>Testing exhaustive_search_4tumblers</b><p></p><p> You score 2 for this part</b></p>Testing your code with a single random combination.<br>Your code ran successfully. It would score some marks but not necessarily all, because this is only one test.<br></div><p></p><div style='border:2px solid darkred;padding:5px'><b>Testing get_names</b><p></p><p> You score 2 for this part</b></p>Trying your code with a single array of names.<br>Your code correctly pulled out the names on a test and would score marks.<br></div><p></p><div style='border:2px solid darkred;padding:5px'><b>Testing sudoku_checker</b><p></p><p> You score 2 for this part</b></p>Trying your code with a single sodoku grid.<br>Your code ran and gave the correct result for this test. It would score some marks.</div>"
      ],
      "text/plain": [
       "<IPython.core.display.HTML object>"
      ]
     },
     "metadata": {},
     "output_type": "display_data"
    }
   ],
   "source": [
    "score,feedback= MarkingFunction(\"student_wb1.py\")\n",
    "\n",
    "print(f'Your code scores {score} out of 6 on the self checker')\n",
    "\n",
    "from IPython.display import display, HTML\n",
    "display(HTML(feedback))"
   ]
  }
 ],
 "metadata": {
  "kernelspec": {
   "display_name": "Python 3",
   "language": "python",
   "name": "python3"
  },
  "language_info": {
   "codemirror_mode": {
    "name": "ipython",
    "version": 3
   },
   "file_extension": ".py",
   "mimetype": "text/x-python",
   "name": "python",
   "nbconvert_exporter": "python",
   "pygments_lexer": "ipython3",
   "version": "3.13.0"
  }
 },
 "nbformat": 4,
 "nbformat_minor": 5
}
